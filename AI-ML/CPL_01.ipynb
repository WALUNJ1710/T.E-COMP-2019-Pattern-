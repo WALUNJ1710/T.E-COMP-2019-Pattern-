{
 "cells": [
  {
   "cell_type": "markdown",
   "id": "a672702b",
   "metadata": {},
   "source": [
    "# Compute Estimators of the main statistical measures"
   ]
  },
  {
   "cell_type": "markdown",
   "id": "cffe4ea3",
   "metadata": {},
   "source": [
    "### Importing Necessary Libraries"
   ]
  },
  {
   "cell_type": "code",
   "execution_count": 175,
   "id": "301bc4fd",
   "metadata": {},
   "outputs": [],
   "source": [
    "import pandas as pd\n",
    "import numpy as np\n",
    "import random\n",
    "from scipy.stats import sem\n",
    "import matplotlib.pyplot as plt"
   ]
  },
  {
   "cell_type": "markdown",
   "id": "efd13862",
   "metadata": {},
   "source": [
    "### Generating Random Dataset"
   ]
  },
  {
   "cell_type": "code",
   "execution_count": 176,
   "id": "2c7cb0c5",
   "metadata": {},
   "outputs": [
    {
     "data": {
      "text/plain": [
       "array([82, 30, 34, 44, 49, 12, 77, 44, 12, 92, 45, 44,  7, 64, 74, 41, 74,\n",
       "       35, 86,  4, 93, 95, 34, 77, 53, 94, 22, 15, 46, 82, 37, 21,  3,  7,\n",
       "       93, 25, 70, 65, 32, 18, 64, 65, 92, 17,  9, 34, 57, 20, 12, 48, 20,\n",
       "       76, 84,  2, 93, 83, 74, 91, 27, 93, 65, 90,  3, 89, 24, 73, 34, 29,\n",
       "       24, 16, 40, 20, 39,  6, 57, 36, 17, 81, 54, 29, 93, 89, 47, 46, 34,\n",
       "       84, 61, 67, 98, 60, 84, 92, 19, 18, 80, 71, 80, 42, 89, 91, 53, 88,\n",
       "       53,  7, 30, 53, 66, 94, 76, 57, 25, 68, 31,  3, 75, 94, 47, 98, 86,\n",
       "       57, 58, 38, 24, 29, 22, 21, 38, 52, 54, 97, 81, 31, 86, 39, 31, 26,\n",
       "       15, 23, 43, 37, 53, 39, 65, 70, 80, 59, 87, 84, 64, 91, 19, 48,  5,\n",
       "       93, 52, 96, 14, 97,  6, 79, 61, 65,  5, 84, 46, 65, 48, 92, 57, 53,\n",
       "       54, 88, 60, 37, 28, 77, 96, 82, 70, 94, 72, 24, 68])"
      ]
     },
     "execution_count": 176,
     "metadata": {},
     "output_type": "execute_result"
    }
   ],
   "source": [
    "temp = []\n",
    "\n",
    "for i in range(random.randint(25,255)):\n",
    "    temp.append(random.randint(1,99))\n",
    "\n",
    "dataset = np.array(temp)\n",
    "\n",
    "dataset"
   ]
  },
  {
   "cell_type": "code",
   "execution_count": 177,
   "id": "344f26df",
   "metadata": {},
   "outputs": [
    {
     "data": {
      "text/plain": [
       "183"
      ]
     },
     "execution_count": 177,
     "metadata": {},
     "output_type": "execute_result"
    }
   ],
   "source": [
    "len(dataset)"
   ]
  },
  {
   "cell_type": "markdown",
   "id": "ead0af4f",
   "metadata": {},
   "source": [
    "### Finding Mean of the Dataset"
   ]
  },
  {
   "cell_type": "markdown",
   "id": "2df8caa6",
   "metadata": {},
   "source": [
    "#### Method - 1 (Built in Function)"
   ]
  },
  {
   "cell_type": "code",
   "execution_count": 178,
   "id": "390e1abe",
   "metadata": {},
   "outputs": [
    {
     "name": "stdout",
     "output_type": "stream",
     "text": [
      "Mean is: 53.536\n"
     ]
    }
   ],
   "source": [
    "print(\"Mean is: {}\".format(round(dataset.mean(),3)))"
   ]
  },
  {
   "cell_type": "markdown",
   "id": "58b01a61",
   "metadata": {},
   "source": [
    "#### Method - 2 (Traditional Method)"
   ]
  },
  {
   "cell_type": "code",
   "execution_count": 179,
   "id": "34abe8b6",
   "metadata": {},
   "outputs": [
    {
     "name": "stdout",
     "output_type": "stream",
     "text": [
      "Mean is: 53.536\n"
     ]
    }
   ],
   "source": [
    "sum_of_elements = 0\n",
    "len_of_dataset = len(dataset)\n",
    "\n",
    "for i2 in dataset:\n",
    "    sum_of_elements+=i2\n",
    "    \n",
    "mean_dataset = sum_of_elements/len_of_dataset\n",
    "print(\"Mean is: {}\".format(round(mean_dataset,3)))"
   ]
  },
  {
   "cell_type": "markdown",
   "id": "85d61ccc",
   "metadata": {},
   "source": [
    "### Finding Variance of the Dataset"
   ]
  },
  {
   "cell_type": "markdown",
   "id": "f6687e9b",
   "metadata": {},
   "source": [
    "#### Method - 1 (Built in Function)"
   ]
  },
  {
   "cell_type": "code",
   "execution_count": 180,
   "id": "08727193",
   "metadata": {},
   "outputs": [
    {
     "name": "stdout",
     "output_type": "stream",
     "text": [
      "Variance is: 803.057\n"
     ]
    }
   ],
   "source": [
    "print(\"Variance is: {}\".format(round(dataset.var(),3)))"
   ]
  },
  {
   "cell_type": "markdown",
   "id": "58d60f92",
   "metadata": {},
   "source": [
    "#### Method - 2 (Traditional Method)"
   ]
  },
  {
   "cell_type": "code",
   "execution_count": 181,
   "id": "4c12aae7",
   "metadata": {},
   "outputs": [
    {
     "name": "stdout",
     "output_type": "stream",
     "text": [
      "Variance is: 803.058\n"
     ]
    }
   ],
   "source": [
    "sum_of_elements = 0\n",
    "len_of_dataset = len(dataset)\n",
    "difference = []\n",
    "sum_diff = 0\n",
    "\n",
    "for i3 in dataset:\n",
    "    sum_of_elements+=i3\n",
    "    \n",
    "mean_dataset = round((sum_of_elements/len_of_dataset),2)\n",
    "\n",
    "for i4 in dataset:\n",
    "    temp = i4-mean_dataset\n",
    "    difference.append(temp**2)\n",
    "    \n",
    "for i5 in difference:\n",
    "    sum_diff+=i5\n",
    "    \n",
    "variance = (sum_diff/len_of_dataset)\n",
    "\n",
    "print(\"Variance is: {}\".format(round(variance,3)))"
   ]
  },
  {
   "cell_type": "markdown",
   "id": "6b5d15f3",
   "metadata": {},
   "source": [
    "### Finding Standard Deviation of the Dataset"
   ]
  },
  {
   "cell_type": "markdown",
   "id": "d576b4e1",
   "metadata": {},
   "source": [
    "#### Method - 1 (Built in Function)"
   ]
  },
  {
   "cell_type": "code",
   "execution_count": 182,
   "id": "a25fe768",
   "metadata": {},
   "outputs": [
    {
     "name": "stdout",
     "output_type": "stream",
     "text": [
      "Standard Deviation is: 28.338\n"
     ]
    }
   ],
   "source": [
    "print(\"Standard Deviation is: {}\".format(round(dataset.std(),3)))"
   ]
  },
  {
   "cell_type": "markdown",
   "id": "58ae251b",
   "metadata": {},
   "source": [
    "#### Method - 2 (Traditional Method)"
   ]
  },
  {
   "cell_type": "code",
   "execution_count": 183,
   "id": "c09e91b2",
   "metadata": {},
   "outputs": [
    {
     "name": "stdout",
     "output_type": "stream",
     "text": [
      "Standard Deviation is: 28.338\n"
     ]
    }
   ],
   "source": [
    "sum_of_elements = 0\n",
    "len_of_dataset = len(dataset)\n",
    "difference = []\n",
    "sum_diff = 0\n",
    "\n",
    "for i6 in dataset:\n",
    "    sum_of_elements+=i6\n",
    "    \n",
    "mean_dataset = round((sum_of_elements/len_of_dataset),2)\n",
    "\n",
    "for i7 in dataset:\n",
    "    temp = i7-mean_dataset\n",
    "    difference.append(temp**2)\n",
    "    \n",
    "for i8 in difference:\n",
    "    sum_diff+=i8\n",
    "    \n",
    "variance = (sum_diff/len_of_dataset)\n",
    "\n",
    "standard_deviation = (variance)**0.5\n",
    "\n",
    "print(\"Standard Deviation is: {}\".format(round(standard_deviation,3)))"
   ]
  },
  {
   "cell_type": "markdown",
   "id": "9de627bd",
   "metadata": {},
   "source": [
    "### Finding Standard Error of the Dataset"
   ]
  },
  {
   "cell_type": "markdown",
   "id": "6cc9177b",
   "metadata": {},
   "source": [
    "#### Method - 1 (Built in Function)"
   ]
  },
  {
   "cell_type": "code",
   "execution_count": 184,
   "id": "9debe5b1",
   "metadata": {},
   "outputs": [
    {
     "name": "stdout",
     "output_type": "stream",
     "text": [
      "Standard Error is: 2\n"
     ]
    }
   ],
   "source": [
    "print(\"Standard Error is: {}\".format(round(sem(dataset))))"
   ]
  },
  {
   "cell_type": "markdown",
   "id": "e4bd7d02",
   "metadata": {},
   "source": [
    "#### Method - 2 (Traditional Method)"
   ]
  },
  {
   "cell_type": "code",
   "execution_count": 185,
   "id": "be56ddfa",
   "metadata": {},
   "outputs": [
    {
     "name": "stdout",
     "output_type": "stream",
     "text": [
      "Standard Error is: 2\n"
     ]
    }
   ],
   "source": [
    "sum_of_elements = 0\n",
    "len_of_dataset = len(dataset)\n",
    "difference = []\n",
    "sum_diff = 0\n",
    "\n",
    "for h in dataset:\n",
    "    sum_of_elements+=h\n",
    "    \n",
    "mean_dataset = round((sum_of_elements/len_of_dataset),2)\n",
    "\n",
    "for h2 in dataset:\n",
    "    temp = h2-mean_dataset\n",
    "    difference.append(temp**2)\n",
    "    \n",
    "for h3 in difference:\n",
    "    sum_diff+=h3\n",
    "    \n",
    "variance = (sum_diff/len_of_dataset)\n",
    "\n",
    "standard_deviation = (variance)**0.5\n",
    "\n",
    "standard_error = (standard_deviation/((len_of_dataset)**0.5))\n",
    "\n",
    "print(\"Standard Error is: {}\".format(round(standard_error)))"
   ]
  },
  {
   "cell_type": "markdown",
   "id": "7c8a98d5",
   "metadata": {},
   "source": [
    "### Finding Covariance and Correlation "
   ]
  },
  {
   "cell_type": "code",
   "execution_count": 186,
   "id": "a816755b",
   "metadata": {},
   "outputs": [
    {
     "name": "stdout",
     "output_type": "stream",
     "text": [
      "Covariance is\n",
      "[[  9.16666667  68.16666667]\n",
      " [ 68.16666667 880.76666667]]\n",
      "\n",
      "\n",
      "Correlation is\n",
      "[[1.         0.75864029]\n",
      " [0.75864029 1.        ]]\n"
     ]
    }
   ],
   "source": [
    "data_x = np.arange(10,20)\n",
    "data_y = np.array([2, 1, 4, 5, 8, 12, 18, 25, 96, 48])\n",
    "\n",
    "covariance = np.cov(data_x, data_y)\n",
    "correlation = np.corrcoef(data_x, data_y)\n",
    "\n",
    "print(\"Covariance is\\n{}\".format(covariance))\n",
    "print(\"\\n\\nCorrelation is\\n{}\".format(correlation))"
   ]
  },
  {
   "cell_type": "markdown",
   "id": "4105d96d",
   "metadata": {},
   "source": [
    "### Graphical Distribution of the Dataset"
   ]
  },
  {
   "cell_type": "code",
   "execution_count": 187,
   "id": "e51a4c4b",
   "metadata": {},
   "outputs": [
    {
     "data": {
      "text/plain": [
       "<matplotlib.collections.PathCollection at 0x1bac82e23d0>"
      ]
     },
     "execution_count": 187,
     "metadata": {},
     "output_type": "execute_result"
    },
    {
     "data": {
      "image/png": "[encoded data removed]",
      "text/plain": [
       "<Figure size 432x288 with 1 Axes>"
      ]
     },
     "metadata": {
      "needs_background": "light"
     },
     "output_type": "display_data"
    }
   ],
   "source": [
    "plt.scatter(data_x, data_y)"
   ]
  }
 ],
 "metadata": {
  "kernelspec": {
   "display_name": "Python 3",
   "language": "python",
   "name": "python3"
  },
  "language_info": {
   "codemirror_mode": {
    "name": "ipython",
    "version": 3
   },
   "file_extension": ".py",
   "mimetype": "text/x-python",
   "name": "python",
   "nbconvert_exporter": "python",
   "pygments_lexer": "ipython3",
   "version": "3.8.8"
  }
 },
 "nbformat": 4,
 "nbformat_minor": 5
}
